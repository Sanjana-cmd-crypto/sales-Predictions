{
 "cells": [
  {
   "cell_type": "code",
   "execution_count": 1,
   "id": "bb61675e-7ab6-4bd3-b8d5-d8a872b6c33c",
   "metadata": {},
   "outputs": [
    {
     "name": "stdout",
     "output_type": "stream",
     "text": [
      "                                                                                                                             INSERT IGNORE INTO order_detail VALUES\n",
      "('ODR9939707760w' 'C713589L' '2021-11-19 00:00:00' 'P858068' 26100.0   200.0 5220000.0 2610000.00 2610000.00 1.0 1.0 0.0 5)                                     NaN\n",
      "('ODR7448356649d' 'C551551L' '2021-11-19 00:00:00' 'P886455' 1971942.0 5.0   9859710.0 2464927.50 7394782.50 1.0 0.0 0.0 5)                                     NaN\n",
      "('ODR4011281866z' 'C685596L' '2021-11-25 00:00:00' 'P678648' 7482000.0 1.0   7482000.0 2065344.62 5416655.38 1.0 0.0 0.0 4)                                     NaN\n",
      "('ODR3378927994s' 'C830683L' '2021-11-22 00:00:00' 'P540013' 3593680.0 1.0   3593680.0 1455440.40 2138239.60 1.0 1.0 1.0 5)                                     NaN\n",
      "('ODR4904430099k' 'C191766L' '2021-11-21 00:00:00' 'P491032' 4413220.0 1.0   4413220.0 1059172.80 3354047.20 1.0 1.0 1.0 4)                                     NaN\n",
      "                      INSERT INTO payment_detail VALUES\n",
      "(1 'cod')                                           NaN\n",
      "(2 'jazzvoucher')                                   NaN\n",
      "(3 'customercredit')                                NaN\n",
      "(4 'Payaxis')                                       NaN\n",
      "(5 'jazzwallet')                                    NaN\n",
      "                                    INSERT INTO customer_detail VALUES\n",
      "('C996508L' '2021-07-10 00:00:00')                                 NaN\n",
      "('C180415L' '2021-07-18 00:00:00')                                 NaN\n",
      "('C535451L' '2021-07-23 00:00:00')                                 NaN\n",
      "('C177843L' '2021-07-12 00:00:00')                                 NaN\n",
      "('C951682L' '2021-07-27 00:00:00')                                 NaN\n"
     ]
    }
   ],
   "source": [
    "import pandas as pd\n",
    "\n",
    "# Load data files\n",
    "order_df = pd.read_csv(\"order_detail.txt\", sep=\",\")  \n",
    "payment_df = pd.read_csv(\"payment_detail.txt\", sep=\",\")  \n",
    "customer_df = pd.read_csv(\"customer_detail.txt\", sep=\",\")  \n",
    "\n",
    "# Display first few rows\n",
    "print(order_df.head())\n",
    "print(payment_df.head())\n",
    "print(customer_df.head())\n"
   ]
  },
  {
   "cell_type": "code",
   "execution_count": 4,
   "id": "10891050-df33-4756-854e-376f1a8da03c",
   "metadata": {},
   "outputs": [
    {
     "name": "stdout",
     "output_type": "stream",
     "text": [
      "                  0           1                      2          3          4   \\\n",
      "0  ('ODR9939707760w'  'C713589L'  '2021-11-19 00:00:00'  'P858068'    26100.0   \n",
      "1  ('ODR7448356649d'  'C551551L'  '2021-11-19 00:00:00'  'P886455'  1971942.0   \n",
      "2  ('ODR4011281866z'  'C685596L'  '2021-11-25 00:00:00'  'P678648'  7482000.0   \n",
      "3  ('ODR3378927994s'  'C830683L'  '2021-11-22 00:00:00'  'P540013'  3593680.0   \n",
      "4  ('ODR4904430099k'  'C191766L'  '2021-11-21 00:00:00'  'P491032'  4413220.0   \n",
      "\n",
      "      5          6           7           8    9    10   11  12  13  \n",
      "0  200.0  5220000.0  2610000.00  2610000.00  1.0  1.0  0.0  5) NaN  \n",
      "1    5.0  9859710.0  2464927.50  7394782.50  1.0  0.0  0.0  5) NaN  \n",
      "2    1.0  7482000.0  2065344.62  5416655.38  1.0  0.0  0.0  4) NaN  \n",
      "3    1.0  3593680.0  1455440.40  2138239.60  1.0  1.0  1.0  5) NaN  \n",
      "4    1.0  4413220.0  1059172.80  3354047.20  1.0  1.0  1.0  4) NaN  \n",
      "Index([0, 1, 2, 3, 4, 5, 6, 7, 8, 9, 10, 11, 12, 13], dtype='int64')\n"
     ]
    }
   ],
   "source": [
    "import pandas as pd\n",
    "\n",
    "# Read the file while skipping SQL statements\n",
    "order_df = pd.read_csv(\"order_detail.txt\", sep=\",\", comment=\"I\", header=None)\n",
    "\n",
    "# Display first few rows\n",
    "print(order_df.head())\n",
    "print(order_df.columns)  # Check column names"
   ]
  },
  {
   "cell_type": "code",
   "execution_count": 6,
   "id": "b24e74a4-c9f3-4b29-9b0a-574df4d24367",
   "metadata": {},
   "outputs": [
    {
     "name": "stdout",
     "output_type": "stream",
     "text": [
      "            order_id customer_id             order_date product_id  \\\n",
      "0  ('ODR9939707760w'  'C713589L'  '2021-11-19 00:00:00'  'P858068'   \n",
      "1  ('ODR7448356649d'  'C551551L'  '2021-11-19 00:00:00'  'P886455'   \n",
      "2  ('ODR4011281866z'  'C685596L'  '2021-11-25 00:00:00'  'P678648'   \n",
      "3  ('ODR3378927994s'  'C830683L'  '2021-11-22 00:00:00'  'P540013'   \n",
      "4  ('ODR4904430099k'  'C191766L'  '2021-11-21 00:00:00'  'P491032'   \n",
      "\n",
      "   qty_ordered  price  before_discount  after_discount        cogs  profit  \\\n",
      "0      26100.0  200.0        5220000.0      2610000.00  2610000.00     1.0   \n",
      "1    1971942.0    5.0        9859710.0      2464927.50  7394782.50     1.0   \n",
      "2    7482000.0    1.0        7482000.0      2065344.62  5416655.38     1.0   \n",
      "3    3593680.0    1.0        3593680.0      1455440.40  2138239.60     1.0   \n",
      "4    4413220.0    1.0        4413220.0      1059172.80  3354047.20     1.0   \n",
      "\n",
      "   unknown1  unknown2 unknown3  rating  \n",
      "0       1.0       0.0       5)     NaN  \n",
      "1       0.0       0.0       5)     NaN  \n",
      "2       0.0       0.0       4)     NaN  \n",
      "3       1.0       1.0       5)     NaN  \n",
      "4       1.0       1.0       4)     NaN  \n"
     ]
    }
   ],
   "source": [
    "# Assign correct column names (make sure there are 14 names)\n",
    "order_df.columns = [\"order_id\", \"customer_id\", \"order_date\", \"product_id\", \"qty_ordered\",\n",
    "                    \"price\", \"before_discount\", \"after_discount\", \"cogs\", \"profit\", \n",
    "                    \"unknown1\", \"unknown2\", \"unknown3\", \"rating\"]  # Adjust as needed\n",
    "\n",
    "# Display the first few rows to check correctness\n",
    "print(order_df.head())"
   ]
  },
  {
   "cell_type": "code",
   "execution_count": 7,
   "id": "d158b761-117a-495e-83e0-4414d3aa5dae",
   "metadata": {},
   "outputs": [],
   "source": [
    "order_df['order_date'] = pd.to_datetime(order_df['order_date'], errors='coerce')"
   ]
  },
  {
   "cell_type": "code",
   "execution_count": 8,
   "id": "842e8924-1857-424a-8000-8aeb5d48a351",
   "metadata": {},
   "outputs": [
    {
     "name": "stdout",
     "output_type": "stream",
     "text": [
      "order_id              0\n",
      "customer_id           1\n",
      "order_date            1\n",
      "product_id            1\n",
      "qty_ordered           1\n",
      "price                 1\n",
      "before_discount       1\n",
      "after_discount        1\n",
      "cogs                  1\n",
      "profit                1\n",
      "unknown1              1\n",
      "unknown2              1\n",
      "unknown3              1\n",
      "rating             5859\n",
      "dtype: int64\n"
     ]
    }
   ],
   "source": [
    "print(order_df.isnull().sum())"
   ]
  },
  {
   "cell_type": "code",
   "execution_count": 9,
   "id": "c83b8fab-9116-4070-98ad-96dbf0c95bd7",
   "metadata": {},
   "outputs": [],
   "source": [
    "numeric_cols = [\"qty_ordered\", \"price\", \"before_discount\", \"after_discount\", \"cogs\", \"profit\"]\n",
    "order_df[numeric_cols] = order_df[numeric_cols].apply(pd.to_numeric, errors='coerce')"
   ]
  },
  {
   "cell_type": "code",
   "execution_count": 10,
   "id": "eb675146-ef88-4a30-88ed-f8a3b1044ed2",
   "metadata": {},
   "outputs": [
    {
     "name": "stdout",
     "output_type": "stream",
     "text": [
      "order_id                   object\n",
      "customer_id                object\n",
      "order_date         datetime64[ns]\n",
      "product_id                 object\n",
      "qty_ordered               float64\n",
      "price                     float64\n",
      "before_discount           float64\n",
      "after_discount            float64\n",
      "cogs                      float64\n",
      "profit                    float64\n",
      "unknown1                  float64\n",
      "unknown2                  float64\n",
      "unknown3                   object\n",
      "rating                    float64\n",
      "dtype: object\n"
     ]
    }
   ],
   "source": [
    "print(order_df.dtypes)"
   ]
  },
  {
   "cell_type": "code",
   "execution_count": 11,
   "id": "0c956ba6-a249-4bb3-a4c7-9743d596e126",
   "metadata": {},
   "outputs": [
    {
     "name": "stdout",
     "output_type": "stream",
     "text": [
      "                          order_date   qty_ordered        price  \\\n",
      "count                           5858  5.858000e+03  5858.000000   \n",
      "mean   2022-01-21 06:50:01.433936640  1.050036e+06     2.309321   \n",
      "min              2021-01-07 00:00:00  0.000000e+00     1.000000   \n",
      "25%              2021-09-26 00:00:00  6.282850e+04     1.000000   \n",
      "50%              2022-01-26 00:00:00  2.029420e+05     1.000000   \n",
      "75%              2022-05-24 00:00:00  9.801855e+05     1.000000   \n",
      "max              2022-12-08 00:00:00  2.778200e+07  1000.000000   \n",
      "std                              NaN  1.922160e+06    19.872083   \n",
      "\n",
      "       before_discount  after_discount          cogs  profit     unknown1  \\\n",
      "count     5.858000e+03    5.858000e+03  5.858000e+03  5858.0  5858.000000   \n",
      "mean      1.464631e+06    5.667471e+03  1.458963e+06     1.0     0.683510   \n",
      "min       0.000000e+00   -3.477100e+04  0.000000e+00     1.0     0.000000   \n",
      "25%       9.274200e+04    0.000000e+00  9.255350e+04     1.0     0.000000   \n",
      "50%       2.436000e+05    0.000000e+00  2.436000e+05     1.0     1.000000   \n",
      "75%       1.188638e+06    0.000000e+00  1.181620e+06     1.0     1.000000   \n",
      "max       5.187520e+08    2.610000e+06  5.187520e+08     1.0     1.000000   \n",
      "std       1.003939e+07    6.835493e+04  1.003812e+07     0.0     0.465146   \n",
      "\n",
      "          unknown2  rating  \n",
      "count  5858.000000     0.0  \n",
      "mean      0.414988     NaN  \n",
      "min       0.000000     NaN  \n",
      "25%       0.000000     NaN  \n",
      "50%       0.000000     NaN  \n",
      "75%       1.000000     NaN  \n",
      "max       1.000000     NaN  \n",
      "std       0.492762     NaN  \n"
     ]
    }
   ],
   "source": [
    "print(order_df.describe())"
   ]
  },
  {
   "cell_type": "code",
   "execution_count": 12,
   "id": "929eebb7-0a1b-423f-a2d7-52f825e6bc86",
   "metadata": {},
   "outputs": [
    {
     "data": {
      "image/png": "[encoded data removed]",
      "text/plain": [
       "<Figure size 1000x500 with 1 Axes>"
      ]
     },
     "metadata": {},
     "output_type": "display_data"
    }
   ],
   "source": [
    "import matplotlib.pyplot as plt\n",
    "import seaborn as sns\n",
    "\n",
    "# Sales trend over time\n",
    "order_df.groupby(order_df['order_date'].dt.to_period(\"M\"))['price'].sum().plot(kind='line', marker='o', figsize=(10,5))\n",
    "plt.title(\"Monthly Sales Trend\")\n",
    "plt.xlabel(\"Month\")\n",
    "plt.ylabel(\"Total Sales\")\n",
    "plt.show()"
   ]
  },
  {
   "cell_type": "code",
   "execution_count": 13,
   "id": "25d647ef-4e06-4442-ab54-21bc20b7e623",
   "metadata": {},
   "outputs": [],
   "source": [
    "from sklearn.preprocessing import LabelEncoder\n",
    "\n",
    "le = LabelEncoder()\n",
    "order_df['customer_id'] = le.fit_transform(order_df['customer_id'])\n",
    "order_df['product_id'] = le.fit_transform(order_df['product_id'])"
   ]
  },
  {
   "cell_type": "code",
   "execution_count": 15,
   "id": "7bc2ccef-d38e-4632-abae-1ba89cb4d85e",
   "metadata": {},
   "outputs": [
    {
     "name": "stdout",
     "output_type": "stream",
     "text": [
      "order_id              0\n",
      "customer_id           0\n",
      "order_date            1\n",
      "product_id            0\n",
      "qty_ordered           1\n",
      "price                 1\n",
      "before_discount       1\n",
      "after_discount        1\n",
      "cogs                  1\n",
      "profit                1\n",
      "unknown1              1\n",
      "unknown2              1\n",
      "unknown3              1\n",
      "rating             5859\n",
      "dtype: int64\n"
     ]
    }
   ],
   "source": [
    "print(order_df.isnull().sum())"
   ]
  },
  {
   "cell_type": "code",
   "execution_count": 18,
   "id": "47a01e71-ae64-4d5c-abbd-f53c5abb934b",
   "metadata": {},
   "outputs": [],
   "source": [
    "# Fill NaN values for non-datetime columns with 0\n",
    "order_df.loc[:, order_df.columns != \"order_date\"] = order_df.loc[:, order_df.columns != \"order_date\"].fillna(0)\n",
    "\n",
    "# Fill NaN values in 'order_date' with a default date (e.g., '2000-01-01')\n",
    "order_df.loc[:, 'order_date'] = order_df['order_date'].fillna(pd.to_datetime(\"2000-01-01\"))"
   ]
  },
  {
   "cell_type": "code",
   "execution_count": 19,
   "id": "3cd7ce74-b4d5-4998-b035-854dfb6f270d",
   "metadata": {},
   "outputs": [],
   "source": [
    "order_df = order_df.fillna({\"order_date\": pd.to_datetime(\"2000-01-01\")})"
   ]
  },
  {
   "cell_type": "code",
   "execution_count": 20,
   "id": "0ec312bd-8d9b-4dc8-b829-a5fde09fea6a",
   "metadata": {},
   "outputs": [],
   "source": [
    "import pickle\n",
    "\n",
    "# Save the trained model\n",
    "with open(\"sales_model.pkl\", \"wb\") as f:\n",
    "    pickle.dump(model, f)"
   ]
  },
  {
   "cell_type": "code",
   "execution_count": 21,
   "id": "5ec76825-3894-431b-b7c2-1ba4752ea074",
   "metadata": {},
   "outputs": [
    {
     "name": "stdout",
     "output_type": "stream",
     "text": [
      "Defaulting to user installation because normal site-packages is not writeable\n",
      "Requirement already satisfied: flask in c:\\programdata\\anaconda3\\lib\\site-packages (3.0.3)\n",
      "Requirement already satisfied: Werkzeug>=3.0.0 in c:\\programdata\\anaconda3\\lib\\site-packages (from flask) (3.0.3)\n",
      "Requirement already satisfied: Jinja2>=3.1.2 in c:\\programdata\\anaconda3\\lib\\site-packages (from flask) (3.1.4)\n",
      "Requirement already satisfied: itsdangerous>=2.1.2 in c:\\programdata\\anaconda3\\lib\\site-packages (from flask) (2.2.0)\n",
      "Requirement already satisfied: click>=8.1.3 in c:\\programdata\\anaconda3\\lib\\site-packages (from flask) (8.1.7)\n",
      "Requirement already satisfied: blinker>=1.6.2 in c:\\programdata\\anaconda3\\lib\\site-packages (from flask) (1.6.2)\n",
      "Requirement already satisfied: colorama in c:\\programdata\\anaconda3\\lib\\site-packages (from click>=8.1.3->flask) (0.4.6)\n",
      "Requirement already satisfied: MarkupSafe>=2.0 in c:\\programdata\\anaconda3\\lib\\site-packages (from Jinja2>=3.1.2->flask) (2.1.3)\n",
      "Note: you may need to restart the kernel to use updated packages.\n"
     ]
    }
   ],
   "source": [
    "pip install flask"
   ]
  },
  {
   "cell_type": "code",
   "execution_count": null,
   "id": "721971b1-fcde-440a-977b-cf2fd59e9875",
   "metadata": {},
   "outputs": [
    {
     "name": "stderr",
     "output_type": "stream",
     "text": [
      "WARNING: This is a development server. Do not use it in a production deployment. Use a production WSGI server instead.\n",
      " * Running on http://localhost:5000\n",
      "Press CTRL+C to quit\n",
      "127.0.0.1 - - [25/Mar/2025 22:17:58] \"GET / HTTP/1.1\" 200 -\n",
      "127.0.0.1 - - [25/Mar/2025 22:17:58] \"GET /favicon.ico HTTP/1.1\" 404 -\n",
      "127.0.0.1 - - [25/Mar/2025 22:26:43] \"GET / HTTP/1.1\" 200 -\n",
      "127.0.0.1 - - [25/Mar/2025 22:26:44] \"GET /favicon.ico HTTP/1.1\" 404 -\n"
     ]
    }
   ],
   "source": [
    "from flask import Flask\n",
    "from werkzeug.serving import run_simple\n",
    "\n",
    "app = Flask(__name__)\n",
    "\n",
    "@app.route('/')\n",
    "def home():\n",
    "    return \"Sales Prediction API is running!\"\n",
    "\n",
    "run_simple('localhost', 5000, app)"
   ]
  },
  {
   "cell_type": "code",
   "execution_count": null,
   "id": "a6d23cfd-1cb8-4d7e-87a3-5328477d7072",
   "metadata": {},
   "outputs": [],
   "source": [
    "import requests\n",
    "\n",
    "url = \"http://localhost:5000/predict\"\n",
    "data = {\"feature1\": 10, \"feature2\": 20, \"feature3\": 30}\n",
    "\n",
    "response = requests.post(url, json=data)\n",
    "print(response.json())"
   ]
  },
  {
   "cell_type": "code",
   "execution_count": null,
   "id": "cf169033-3268-4d3d-b399-5900286b7961",
   "metadata": {},
   "outputs": [],
   "source": [
    "if __name__ == \"__main__\":\n",
    "    app.run(debug=True)"
   ]
  },
  {
   "cell_type": "code",
   "execution_count": null,
   "id": "e7c4ef05-9e5b-41d5-8e1a-93ad710d2285",
   "metadata": {},
   "outputs": [],
   "source": []
  }
 ],
 "metadata": {
  "kernelspec": {
   "display_name": "Python 3 (ipykernel)",
   "language": "python",
   "name": "python3"
  },
  "language_info": {
   "codemirror_mode": {
    "name": "ipython",
    "version": 3
   },
   "file_extension": ".py",
   "mimetype": "text/x-python",
   "name": "python",
   "nbconvert_exporter": "python",
   "pygments_lexer": "ipython3",
   "version": "3.12.4"
  }
 },
 "nbformat": 4,
 "nbformat_minor": 5
}
